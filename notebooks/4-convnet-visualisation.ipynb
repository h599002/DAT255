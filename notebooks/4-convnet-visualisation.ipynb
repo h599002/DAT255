{
  "cells": [
    {
      "cell_type": "markdown",
      "id": "13564659-d526-4076-b133-c6ebd69d6566",
      "metadata": {
        "id": "13564659-d526-4076-b133-c6ebd69d6566"
      },
      "source": [
        "# Visualise the activation of convnet filters"
      ]
    },
    {
      "cell_type": "markdown",
      "id": "7d37e6cf-2329-4683-aa1a-b5cb711534c7",
      "metadata": {
        "id": "7d37e6cf-2329-4683-aa1a-b5cb711534c7"
      },
      "source": [
        "In this notebook we will plot all the filters of all the layers in a convolutional network, and try to get an impression of what they do.\n",
        "\n",
        "The notebook is heavily inspired by [this one](https://github.com/fchollet/deep-learning-with-python-notebooks/blob/master/chapter09_part03_interpreting-what-convnets-learn.ipynb), written by the author of Keras. If you want to visualise a slightly more complicated neural network, please run through this one as well. Here, in our simpler case, we look at a MNIST digit classifier, like the one from notebook 1."
      ]
    },
    {
      "cell_type": "markdown",
      "id": "22a6664b-ca10-48c5-83c3-481985f2cd7d",
      "metadata": {
        "id": "22a6664b-ca10-48c5-83c3-481985f2cd7d"
      },
      "source": [
        "### Setup"
      ]
    },
    {
      "cell_type": "code",
      "execution_count": 2,
      "id": "a1884c43-4073-4be2-8d22-15bd34a27807",
      "metadata": {
        "id": "a1884c43-4073-4be2-8d22-15bd34a27807"
      },
      "outputs": [],
      "source": [
        "import keras\n",
        "import tensorflow as tf\n",
        "import numpy as np\n",
        "import matplotlib.pyplot as plt"
      ]
    },
    {
      "cell_type": "markdown",
      "id": "1c3ca171-0274-412b-9746-f1af3a6beddf",
      "metadata": {
        "id": "1c3ca171-0274-412b-9746-f1af3a6beddf"
      },
      "source": [
        "### Load data\n",
        "\n",
        "We load the MNIST data, as before:"
      ]
    },
    {
      "cell_type": "code",
      "execution_count": 3,
      "id": "1afee658-ee17-490f-aa3e-ef48163a27a1",
      "metadata": {
        "id": "1afee658-ee17-490f-aa3e-ef48163a27a1",
        "outputId": "401281e2-b972-4dfe-8914-d3d539782ad8",
        "colab": {
          "base_uri": "https://localhost:8080/"
        }
      },
      "outputs": [
        {
          "output_type": "stream",
          "name": "stdout",
          "text": [
            "Downloading data from https://storage.googleapis.com/tensorflow/tf-keras-datasets/mnist.npz\n",
            "\u001b[1m11490434/11490434\u001b[0m \u001b[32m━━━━━━━━━━━━━━━━━━━━\u001b[0m\u001b[37m\u001b[0m \u001b[1m0s\u001b[0m 0us/step\n"
          ]
        }
      ],
      "source": [
        "num_classes = 10\n",
        "input_shape = (28, 28, 1)\n",
        "\n",
        "(X_train, y_train), (X_test, y_test) = keras.datasets.mnist.load_data()\n",
        "\n",
        "# Scale images to the [0, 1] range\n",
        "X_train = X_train.astype(\"float32\") / 255\n",
        "X_test = X_test.astype(\"float32\") / 255\n",
        "\n",
        "# Make sure images have shape (28, 28, 1)\n",
        "X_train = np.expand_dims(X_train, -1)\n",
        "X_test = np.expand_dims(X_test, -1)\n",
        "\n",
        "# Convert class vectors to binary class matrices\n",
        "y_train = keras.utils.to_categorical(y_train, num_classes)\n",
        "y_test = keras.utils.to_categorical(y_test, num_classes)"
      ]
    },
    {
      "cell_type": "markdown",
      "id": "3c64595c-2e32-443c-95d0-665b2c4c3946",
      "metadata": {
        "id": "3c64595c-2e32-443c-95d0-665b2c4c3946"
      },
      "source": [
        "### Define the model\n",
        "\n",
        "This time, let us use the functional model API to define the network. The structure is identical to notebook 1, but all layers are Keras functions, being applied to the output from the layer before."
      ]
    },
    {
      "cell_type": "code",
      "execution_count": 4,
      "id": "0114bf6f-b914-4b92-b758-00a2548cb8f6",
      "metadata": {
        "id": "0114bf6f-b914-4b92-b758-00a2548cb8f6",
        "outputId": "9b567546-64b5-463a-dfd3-0440211033bb",
        "colab": {
          "base_uri": "https://localhost:8080/",
          "height": 449
        }
      },
      "outputs": [
        {
          "output_type": "display_data",
          "data": {
            "text/plain": [
              "\u001b[1mModel: \"functional\"\u001b[0m\n"
            ],
            "text/html": [
              "<pre style=\"white-space:pre;overflow-x:auto;line-height:normal;font-family:Menlo,'DejaVu Sans Mono',consolas,'Courier New',monospace\"><span style=\"font-weight: bold\">Model: \"functional\"</span>\n",
              "</pre>\n"
            ]
          },
          "metadata": {}
        },
        {
          "output_type": "display_data",
          "data": {
            "text/plain": [
              "┏━━━━━━━━━━━━━━━━━━━━━━━━━━━━━━━━━━━━━━┳━━━━━━━━━━━━━━━━━━━━━━━━━━━━━┳━━━━━━━━━━━━━━━━━┓\n",
              "┃\u001b[1m \u001b[0m\u001b[1mLayer (type)                        \u001b[0m\u001b[1m \u001b[0m┃\u001b[1m \u001b[0m\u001b[1mOutput Shape               \u001b[0m\u001b[1m \u001b[0m┃\u001b[1m \u001b[0m\u001b[1m        Param #\u001b[0m\u001b[1m \u001b[0m┃\n",
              "┡━━━━━━━━━━━━━━━━━━━━━━━━━━━━━━━━━━━━━━╇━━━━━━━━━━━━━━━━━━━━━━━━━━━━━╇━━━━━━━━━━━━━━━━━┩\n",
              "│ input_layer (\u001b[38;5;33mInputLayer\u001b[0m)             │ (\u001b[38;5;45mNone\u001b[0m, \u001b[38;5;34m28\u001b[0m, \u001b[38;5;34m28\u001b[0m, \u001b[38;5;34m1\u001b[0m)           │               \u001b[38;5;34m0\u001b[0m │\n",
              "├──────────────────────────────────────┼─────────────────────────────┼─────────────────┤\n",
              "│ conv2d (\u001b[38;5;33mConv2D\u001b[0m)                      │ (\u001b[38;5;45mNone\u001b[0m, \u001b[38;5;34m26\u001b[0m, \u001b[38;5;34m26\u001b[0m, \u001b[38;5;34m32\u001b[0m)          │             \u001b[38;5;34m320\u001b[0m │\n",
              "├──────────────────────────────────────┼─────────────────────────────┼─────────────────┤\n",
              "│ max_pooling2d (\u001b[38;5;33mMaxPooling2D\u001b[0m)         │ (\u001b[38;5;45mNone\u001b[0m, \u001b[38;5;34m13\u001b[0m, \u001b[38;5;34m13\u001b[0m, \u001b[38;5;34m32\u001b[0m)          │               \u001b[38;5;34m0\u001b[0m │\n",
              "├──────────────────────────────────────┼─────────────────────────────┼─────────────────┤\n",
              "│ conv2d_1 (\u001b[38;5;33mConv2D\u001b[0m)                    │ (\u001b[38;5;45mNone\u001b[0m, \u001b[38;5;34m11\u001b[0m, \u001b[38;5;34m11\u001b[0m, \u001b[38;5;34m32\u001b[0m)          │           \u001b[38;5;34m9,248\u001b[0m │\n",
              "├──────────────────────────────────────┼─────────────────────────────┼─────────────────┤\n",
              "│ max_pooling2d_1 (\u001b[38;5;33mMaxPooling2D\u001b[0m)       │ (\u001b[38;5;45mNone\u001b[0m, \u001b[38;5;34m5\u001b[0m, \u001b[38;5;34m5\u001b[0m, \u001b[38;5;34m32\u001b[0m)            │               \u001b[38;5;34m0\u001b[0m │\n",
              "├──────────────────────────────────────┼─────────────────────────────┼─────────────────┤\n",
              "│ conv2d_2 (\u001b[38;5;33mConv2D\u001b[0m)                    │ (\u001b[38;5;45mNone\u001b[0m, \u001b[38;5;34m3\u001b[0m, \u001b[38;5;34m3\u001b[0m, \u001b[38;5;34m32\u001b[0m)            │           \u001b[38;5;34m9,248\u001b[0m │\n",
              "├──────────────────────────────────────┼─────────────────────────────┼─────────────────┤\n",
              "│ max_pooling2d_2 (\u001b[38;5;33mMaxPooling2D\u001b[0m)       │ (\u001b[38;5;45mNone\u001b[0m, \u001b[38;5;34m1\u001b[0m, \u001b[38;5;34m1\u001b[0m, \u001b[38;5;34m32\u001b[0m)            │               \u001b[38;5;34m0\u001b[0m │\n",
              "├──────────────────────────────────────┼─────────────────────────────┼─────────────────┤\n",
              "│ flatten (\u001b[38;5;33mFlatten\u001b[0m)                    │ (\u001b[38;5;45mNone\u001b[0m, \u001b[38;5;34m32\u001b[0m)                  │               \u001b[38;5;34m0\u001b[0m │\n",
              "├──────────────────────────────────────┼─────────────────────────────┼─────────────────┤\n",
              "│ dropout (\u001b[38;5;33mDropout\u001b[0m)                    │ (\u001b[38;5;45mNone\u001b[0m, \u001b[38;5;34m32\u001b[0m)                  │               \u001b[38;5;34m0\u001b[0m │\n",
              "├──────────────────────────────────────┼─────────────────────────────┼─────────────────┤\n",
              "│ dense (\u001b[38;5;33mDense\u001b[0m)                        │ (\u001b[38;5;45mNone\u001b[0m, \u001b[38;5;34m10\u001b[0m)                  │             \u001b[38;5;34m330\u001b[0m │\n",
              "└──────────────────────────────────────┴─────────────────────────────┴─────────────────┘\n"
            ],
            "text/html": [
              "<pre style=\"white-space:pre;overflow-x:auto;line-height:normal;font-family:Menlo,'DejaVu Sans Mono',consolas,'Courier New',monospace\">┏━━━━━━━━━━━━━━━━━━━━━━━━━━━━━━━━━━━━━━┳━━━━━━━━━━━━━━━━━━━━━━━━━━━━━┳━━━━━━━━━━━━━━━━━┓\n",
              "┃<span style=\"font-weight: bold\"> Layer (type)                         </span>┃<span style=\"font-weight: bold\"> Output Shape                </span>┃<span style=\"font-weight: bold\">         Param # </span>┃\n",
              "┡━━━━━━━━━━━━━━━━━━━━━━━━━━━━━━━━━━━━━━╇━━━━━━━━━━━━━━━━━━━━━━━━━━━━━╇━━━━━━━━━━━━━━━━━┩\n",
              "│ input_layer (<span style=\"color: #0087ff; text-decoration-color: #0087ff\">InputLayer</span>)             │ (<span style=\"color: #00d7ff; text-decoration-color: #00d7ff\">None</span>, <span style=\"color: #00af00; text-decoration-color: #00af00\">28</span>, <span style=\"color: #00af00; text-decoration-color: #00af00\">28</span>, <span style=\"color: #00af00; text-decoration-color: #00af00\">1</span>)           │               <span style=\"color: #00af00; text-decoration-color: #00af00\">0</span> │\n",
              "├──────────────────────────────────────┼─────────────────────────────┼─────────────────┤\n",
              "│ conv2d (<span style=\"color: #0087ff; text-decoration-color: #0087ff\">Conv2D</span>)                      │ (<span style=\"color: #00d7ff; text-decoration-color: #00d7ff\">None</span>, <span style=\"color: #00af00; text-decoration-color: #00af00\">26</span>, <span style=\"color: #00af00; text-decoration-color: #00af00\">26</span>, <span style=\"color: #00af00; text-decoration-color: #00af00\">32</span>)          │             <span style=\"color: #00af00; text-decoration-color: #00af00\">320</span> │\n",
              "├──────────────────────────────────────┼─────────────────────────────┼─────────────────┤\n",
              "│ max_pooling2d (<span style=\"color: #0087ff; text-decoration-color: #0087ff\">MaxPooling2D</span>)         │ (<span style=\"color: #00d7ff; text-decoration-color: #00d7ff\">None</span>, <span style=\"color: #00af00; text-decoration-color: #00af00\">13</span>, <span style=\"color: #00af00; text-decoration-color: #00af00\">13</span>, <span style=\"color: #00af00; text-decoration-color: #00af00\">32</span>)          │               <span style=\"color: #00af00; text-decoration-color: #00af00\">0</span> │\n",
              "├──────────────────────────────────────┼─────────────────────────────┼─────────────────┤\n",
              "│ conv2d_1 (<span style=\"color: #0087ff; text-decoration-color: #0087ff\">Conv2D</span>)                    │ (<span style=\"color: #00d7ff; text-decoration-color: #00d7ff\">None</span>, <span style=\"color: #00af00; text-decoration-color: #00af00\">11</span>, <span style=\"color: #00af00; text-decoration-color: #00af00\">11</span>, <span style=\"color: #00af00; text-decoration-color: #00af00\">32</span>)          │           <span style=\"color: #00af00; text-decoration-color: #00af00\">9,248</span> │\n",
              "├──────────────────────────────────────┼─────────────────────────────┼─────────────────┤\n",
              "│ max_pooling2d_1 (<span style=\"color: #0087ff; text-decoration-color: #0087ff\">MaxPooling2D</span>)       │ (<span style=\"color: #00d7ff; text-decoration-color: #00d7ff\">None</span>, <span style=\"color: #00af00; text-decoration-color: #00af00\">5</span>, <span style=\"color: #00af00; text-decoration-color: #00af00\">5</span>, <span style=\"color: #00af00; text-decoration-color: #00af00\">32</span>)            │               <span style=\"color: #00af00; text-decoration-color: #00af00\">0</span> │\n",
              "├──────────────────────────────────────┼─────────────────────────────┼─────────────────┤\n",
              "│ conv2d_2 (<span style=\"color: #0087ff; text-decoration-color: #0087ff\">Conv2D</span>)                    │ (<span style=\"color: #00d7ff; text-decoration-color: #00d7ff\">None</span>, <span style=\"color: #00af00; text-decoration-color: #00af00\">3</span>, <span style=\"color: #00af00; text-decoration-color: #00af00\">3</span>, <span style=\"color: #00af00; text-decoration-color: #00af00\">32</span>)            │           <span style=\"color: #00af00; text-decoration-color: #00af00\">9,248</span> │\n",
              "├──────────────────────────────────────┼─────────────────────────────┼─────────────────┤\n",
              "│ max_pooling2d_2 (<span style=\"color: #0087ff; text-decoration-color: #0087ff\">MaxPooling2D</span>)       │ (<span style=\"color: #00d7ff; text-decoration-color: #00d7ff\">None</span>, <span style=\"color: #00af00; text-decoration-color: #00af00\">1</span>, <span style=\"color: #00af00; text-decoration-color: #00af00\">1</span>, <span style=\"color: #00af00; text-decoration-color: #00af00\">32</span>)            │               <span style=\"color: #00af00; text-decoration-color: #00af00\">0</span> │\n",
              "├──────────────────────────────────────┼─────────────────────────────┼─────────────────┤\n",
              "│ flatten (<span style=\"color: #0087ff; text-decoration-color: #0087ff\">Flatten</span>)                    │ (<span style=\"color: #00d7ff; text-decoration-color: #00d7ff\">None</span>, <span style=\"color: #00af00; text-decoration-color: #00af00\">32</span>)                  │               <span style=\"color: #00af00; text-decoration-color: #00af00\">0</span> │\n",
              "├──────────────────────────────────────┼─────────────────────────────┼─────────────────┤\n",
              "│ dropout (<span style=\"color: #0087ff; text-decoration-color: #0087ff\">Dropout</span>)                    │ (<span style=\"color: #00d7ff; text-decoration-color: #00d7ff\">None</span>, <span style=\"color: #00af00; text-decoration-color: #00af00\">32</span>)                  │               <span style=\"color: #00af00; text-decoration-color: #00af00\">0</span> │\n",
              "├──────────────────────────────────────┼─────────────────────────────┼─────────────────┤\n",
              "│ dense (<span style=\"color: #0087ff; text-decoration-color: #0087ff\">Dense</span>)                        │ (<span style=\"color: #00d7ff; text-decoration-color: #00d7ff\">None</span>, <span style=\"color: #00af00; text-decoration-color: #00af00\">10</span>)                  │             <span style=\"color: #00af00; text-decoration-color: #00af00\">330</span> │\n",
              "└──────────────────────────────────────┴─────────────────────────────┴─────────────────┘\n",
              "</pre>\n"
            ]
          },
          "metadata": {}
        },
        {
          "output_type": "display_data",
          "data": {
            "text/plain": [
              "\u001b[1m Total params: \u001b[0m\u001b[38;5;34m19,146\u001b[0m (74.79 KB)\n"
            ],
            "text/html": [
              "<pre style=\"white-space:pre;overflow-x:auto;line-height:normal;font-family:Menlo,'DejaVu Sans Mono',consolas,'Courier New',monospace\"><span style=\"font-weight: bold\"> Total params: </span><span style=\"color: #00af00; text-decoration-color: #00af00\">19,146</span> (74.79 KB)\n",
              "</pre>\n"
            ]
          },
          "metadata": {}
        },
        {
          "output_type": "display_data",
          "data": {
            "text/plain": [
              "\u001b[1m Trainable params: \u001b[0m\u001b[38;5;34m19,146\u001b[0m (74.79 KB)\n"
            ],
            "text/html": [
              "<pre style=\"white-space:pre;overflow-x:auto;line-height:normal;font-family:Menlo,'DejaVu Sans Mono',consolas,'Courier New',monospace\"><span style=\"font-weight: bold\"> Trainable params: </span><span style=\"color: #00af00; text-decoration-color: #00af00\">19,146</span> (74.79 KB)\n",
              "</pre>\n"
            ]
          },
          "metadata": {}
        },
        {
          "output_type": "display_data",
          "data": {
            "text/plain": [
              "\u001b[1m Non-trainable params: \u001b[0m\u001b[38;5;34m0\u001b[0m (0.00 B)\n"
            ],
            "text/html": [
              "<pre style=\"white-space:pre;overflow-x:auto;line-height:normal;font-family:Menlo,'DejaVu Sans Mono',consolas,'Courier New',monospace\"><span style=\"font-weight: bold\"> Non-trainable params: </span><span style=\"color: #00af00; text-decoration-color: #00af00\">0</span> (0.00 B)\n",
              "</pre>\n"
            ]
          },
          "metadata": {}
        }
      ],
      "source": [
        "inputs = keras.Input(shape=input_shape)\n",
        "x = keras.layers.Conv2D(32, kernel_size=(3, 3), activation=\"relu\")(inputs)\n",
        "x = keras.layers.MaxPooling2D(pool_size=(2, 2))(x)\n",
        "x = keras.layers.Conv2D(32, kernel_size=(3, 3), activation=\"relu\")(x)\n",
        "x = keras.layers.MaxPooling2D(pool_size=(2, 2))(x)\n",
        "x = keras.layers.Conv2D(32, kernel_size=(3, 3), activation=\"relu\")(x)\n",
        "x = keras.layers.MaxPooling2D(pool_size=(2, 2))(x)\n",
        "x = keras.layers.Flatten()(x)\n",
        "x = keras.layers.Dropout(0.3)(x)\n",
        "outputs = keras.layers.Dense(num_classes, activation=\"softmax\")(x)\n",
        "\n",
        "# Define the Model instance\n",
        "convnet = keras.Model(inputs=inputs, outputs=outputs)\n",
        "\n",
        "# Print it\n",
        "convnet.summary()"
      ]
    },
    {
      "cell_type": "markdown",
      "id": "cebe044a-beed-4acb-8e25-35f89268f7a8",
      "metadata": {
        "id": "cebe044a-beed-4acb-8e25-35f89268f7a8"
      },
      "source": [
        "### Train the model\n",
        "\n",
        "### <span style=\"color: red;\">Exercise:<span>\n",
        "\n",
        "Compile and train the model."
      ]
    },
    {
      "cell_type": "code",
      "execution_count": 6,
      "id": "eb15a4ae-37c8-4e6e-b013-e67c5d777366",
      "metadata": {
        "id": "eb15a4ae-37c8-4e6e-b013-e67c5d777366",
        "outputId": "5c95b234-7ff2-4cae-9834-533f5863f195",
        "colab": {
          "base_uri": "https://localhost:8080/",
          "height": 211
        }
      },
      "outputs": [
        {
          "output_type": "error",
          "ename": "NameError",
          "evalue": "name 'covnet' is not defined",
          "traceback": [
            "\u001b[0;31m---------------------------------------------------------------------------\u001b[0m",
            "\u001b[0;31mNameError\u001b[0m                                 Traceback (most recent call last)",
            "\u001b[0;32m<ipython-input-6-3530885f09e0>\u001b[0m in \u001b[0;36m<cell line: 0>\u001b[0;34m()\u001b[0m\n\u001b[1;32m      2\u001b[0m \u001b[0mepochs\u001b[0m \u001b[0;34m=\u001b[0m \u001b[0;36m10\u001b[0m\u001b[0;34m\u001b[0m\u001b[0;34m\u001b[0m\u001b[0m\n\u001b[1;32m      3\u001b[0m \u001b[0;34m\u001b[0m\u001b[0m\n\u001b[0;32m----> 4\u001b[0;31m \u001b[0mcovnet\u001b[0m\u001b[0;34m.\u001b[0m\u001b[0mcompile\u001b[0m\u001b[0;34m(\u001b[0m\u001b[0;34m...\u001b[0m\u001b[0;34m)\u001b[0m\u001b[0;34m\u001b[0m\u001b[0;34m\u001b[0m\u001b[0m\n\u001b[0m\u001b[1;32m      5\u001b[0m \u001b[0;34m\u001b[0m\u001b[0m\n\u001b[1;32m      6\u001b[0m \u001b[0;31m#convnet.\u001b[0m\u001b[0;34m\u001b[0m\u001b[0;34m\u001b[0m\u001b[0m\n",
            "\u001b[0;31mNameError\u001b[0m: name 'covnet' is not defined"
          ]
        }
      ],
      "source": [
        "batch_size = 128\n",
        "epochs = 10\n",
        "\n",
        "covnet.compile()\n",
        "covnet.fit()\n"
      ]
    },
    {
      "cell_type": "markdown",
      "id": "ff926042-7cc0-4155-8dd3-dc59f5736b42",
      "metadata": {
        "id": "ff926042-7cc0-4155-8dd3-dc59f5736b42"
      },
      "source": [
        "### Select an example image\n",
        "\n",
        "Pick the fourth image in `X_test`, and plot it."
      ]
    },
    {
      "cell_type": "code",
      "execution_count": null,
      "id": "83c33742-07e1-4157-b100-f9e4f5d8959c",
      "metadata": {
        "id": "83c33742-07e1-4157-b100-f9e4f5d8959c"
      },
      "outputs": [],
      "source": [
        "img = X_test[4]\n",
        "\n",
        "plt.axis(\"off\")\n",
        "plt.imshow(img)\n",
        "plt.show()"
      ]
    },
    {
      "cell_type": "markdown",
      "id": "91cbe707-a7fd-4b1a-8964-c478e1daf948",
      "metadata": {
        "id": "91cbe707-a7fd-4b1a-8964-c478e1daf948"
      },
      "source": [
        "**Note**: These are grayscale (black-and-white) images, but the default colormap adds some color to them, to make different values easier to perceive. In case you want to plot them in their true grayscale glory, use\n",
        "\n",
        "```\n",
        "plt.imshow(img, cmap='gray')\n",
        "```\n",
        "\n",
        "in the code above (and below)."
      ]
    },
    {
      "cell_type": "markdown",
      "id": "fa471f19-facb-4088-bdc5-d8fd75bbf690",
      "metadata": {
        "id": "fa471f19-facb-4088-bdc5-d8fd75bbf690"
      },
      "source": [
        "### Predict the number\n",
        "\n",
        "To run the model on our example image, we have to add the batch axis, so that its shape is (1, 28, 28, 1).\n",
        "\n",
        "The `predict` function outputs the predictions for each class 0-9.\n"
      ]
    },
    {
      "cell_type": "code",
      "execution_count": null,
      "id": "df6fdaa7-5c77-4fa8-9b51-4e0edcfddb2d",
      "metadata": {
        "id": "df6fdaa7-5c77-4fa8-9b51-4e0edcfddb2d"
      },
      "outputs": [],
      "source": [
        "img_tensor = tf.expand_dims(img, axis=0)\n",
        "\n",
        "preds = convnet.predict(img_tensor)[0]\n",
        "\n",
        "for i in range(len(preds)):\n",
        "    print(f'{i}: score = {preds[i]:.4f}')\n",
        "\n",
        "print()\n",
        "print(f'Predicted number: {tf.argmax(preds)}')"
      ]
    },
    {
      "cell_type": "markdown",
      "id": "13fd9990-bb81-45aa-b91c-54cd239ff0ff",
      "metadata": {
        "id": "13fd9990-bb81-45aa-b91c-54cd239ff0ff"
      },
      "source": [
        "### Get the layer activations\n",
        "\n",
        "Now, we'll create a new `Model` instance that returns the activations of the convolution (`Conv2D`) and max-pooling (`MaxPooling2D`) layers."
      ]
    },
    {
      "cell_type": "code",
      "execution_count": null,
      "id": "a549c323-0ae1-466b-8957-5fff046c2c7d",
      "metadata": {
        "id": "a549c323-0ae1-466b-8957-5fff046c2c7d"
      },
      "outputs": [],
      "source": [
        "layer_outputs = []\n",
        "layer_names = []\n",
        "for layer in convnet.layers:\n",
        "    print(layer)\n",
        "    if isinstance(layer, (keras.layers.Conv2D, keras.layers.MaxPooling2D)):\n",
        "        layer_outputs.append(layer.output)\n",
        "        layer_names.append(layer.name)\n",
        "activation_model = keras.Model(inputs=convnet.input, outputs=layer_outputs)"
      ]
    },
    {
      "cell_type": "markdown",
      "id": "ba5a1d07-26b5-474f-a3df-08b36e284ae0",
      "metadata": {
        "id": "ba5a1d07-26b5-474f-a3df-08b36e284ae0"
      },
      "source": [
        "Run it to get the activations!"
      ]
    },
    {
      "cell_type": "code",
      "execution_count": null,
      "id": "f9d9fd97-ae3b-4c76-97c9-08d52832ef2d",
      "metadata": {
        "id": "f9d9fd97-ae3b-4c76-97c9-08d52832ef2d"
      },
      "outputs": [],
      "source": [
        "activations = activation_model.predict(img_tensor)"
      ]
    },
    {
      "cell_type": "markdown",
      "id": "067c5917-2292-42f2-9a6c-3aa1e272328c",
      "metadata": {
        "id": "067c5917-2292-42f2-9a6c-3aa1e272328c"
      },
      "source": [
        "Plot the activations of the fifth filter of the first layer:"
      ]
    },
    {
      "cell_type": "code",
      "execution_count": null,
      "id": "3e2a144a-05ef-413d-b9f5-9059fc97dd06",
      "metadata": {
        "id": "3e2a144a-05ef-413d-b9f5-9059fc97dd06"
      },
      "outputs": [],
      "source": [
        "first_layer_activation = activations[0]\n",
        "print(first_layer_activation.shape)"
      ]
    },
    {
      "cell_type": "code",
      "execution_count": null,
      "id": "f22e9cf3-4132-430b-838d-37c63f910ce0",
      "metadata": {
        "id": "f22e9cf3-4132-430b-838d-37c63f910ce0"
      },
      "outputs": [],
      "source": [
        "import matplotlib.pyplot as plt\n",
        "plt.matshow(first_layer_activation[0, :, :, 5])"
      ]
    },
    {
      "cell_type": "markdown",
      "id": "1ea9935a-7978-4adb-b84f-5fa31e00aed2",
      "metadata": {
        "id": "1ea9935a-7978-4adb-b84f-5fa31e00aed2"
      },
      "source": [
        "### Plot all activations\n",
        "\n",
        "After running the cell below, right-click the output and select \"Disable Scrolling for Outputs\", in order to show all plots below each other."
      ]
    },
    {
      "cell_type": "code",
      "execution_count": null,
      "id": "6df7a736-700c-4ce2-8fb1-cdfff51514c3",
      "metadata": {
        "id": "6df7a736-700c-4ce2-8fb1-cdfff51514c3"
      },
      "outputs": [],
      "source": [
        "images_per_row = 8\n",
        "for layer_name, layer_activation in zip(layer_names, activations):\n",
        "    n_features = layer_activation.shape[-1]\n",
        "    size = layer_activation.shape[1]\n",
        "    n_cols = n_features // images_per_row\n",
        "    display_grid = np.zeros(((size + 1) * n_cols - 1,\n",
        "                             images_per_row * (size + 1) - 1))\n",
        "    for col in range(n_cols):\n",
        "        for row in range(images_per_row):\n",
        "            channel_index = col * images_per_row + row\n",
        "            channel_image = layer_activation[0, :, :, channel_index].copy()\n",
        "            display_grid[\n",
        "                col * (size + 1): (col + 1) * size + col,\n",
        "                row * (size + 1) : (row + 1) * size + row] = channel_image\n",
        "    scale = 1. / size\n",
        "    plt.figure(figsize=(scale * display_grid.shape[1],\n",
        "                        scale * display_grid.shape[0]))\n",
        "    plt.title(layer_name)\n",
        "    plt.grid(False)\n",
        "    plt.axis(\"off\")\n",
        "    plt.imshow(display_grid, aspect=\"auto\", cmap=\"viridis\")"
      ]
    },
    {
      "cell_type": "markdown",
      "id": "da1aa456-4b27-4bcd-bf19-524608fcab7b",
      "metadata": {
        "id": "da1aa456-4b27-4bcd-bf19-524608fcab7b"
      },
      "source": [
        "### <span style=\"color: red;\">Exercise:<span>\n",
        "\n",
        "Try to make sense of the plots, by changing the input image to different ones:\n",
        "\n",
        "- What do the `conv2d_*` layers do?\n",
        "- What do the `max_pooling_*` layers do?\n",
        "- Does the information in the successive layers become more clear or less clear?\n",
        "- Can you relate the pixels in the final layer to the different number predictions?\n"
      ]
    }
  ],
  "metadata": {
    "kernelspec": {
      "display_name": "Python 3",
      "name": "python3"
    },
    "language_info": {
      "codemirror_mode": {
        "name": "ipython",
        "version": 3
      },
      "file_extension": ".py",
      "mimetype": "text/x-python",
      "name": "python",
      "nbconvert_exporter": "python",
      "pygments_lexer": "ipython3",
      "version": "3.10.12"
    },
    "colab": {
      "provenance": [],
      "gpuType": "T4"
    },
    "accelerator": "GPU"
  },
  "nbformat": 4,
  "nbformat_minor": 5
}