{
  "cells": [
    {
      "cell_type": "markdown",
      "metadata": {
        "id": "m_Pz7FYvjY6H"
      },
      "source": [
        "# Image recognition on the Fashion MNIST dataset\n",
        "\n",
        "Instead of classifying ten digits, let's try a slightly harder example: Classifying black-and-white images of fashion items. This dataset is known as the [\"Fashion MNIST\" dataset](https://keras.io/api/datasets/fashion_mnist/), due to its similarity to the original MNIST data."
      ]
    },
    {
      "cell_type": "code",
      "execution_count": null,
      "metadata": {
        "id": "nbPKWq31jY6J"
      },
      "outputs": [],
      "source": [
        "import numpy as np\n",
        "import keras\n",
        "import matplotlib.pyplot as plt"
      ]
    },
    {
      "cell_type": "markdown",
      "metadata": {
        "id": "BOcwc4S2jY6K"
      },
      "source": [
        "## Load the data\n",
        "The dataset contains 60 000 training images and 10 000 testing images, from 10 different categories:\n",
        "\n",
        "| Label | Description |\n",
        "| ----- | ----- |\n",
        "| 0 | T-shirt/top |\n",
        "| 1 | Trouser |\n",
        "| 2 | Pullover |\n",
        "| 3 | Dress |\n",
        "| 4 | Coat |\n",
        "| 5 | Sandal |\n",
        "| 6 | Shirt |\n",
        "| 7 | Sneaker |\n",
        "| 8 | Bag |\n",
        "| 9 | Ankle boot |"
      ]
    },
    {
      "cell_type": "code",
      "execution_count": null,
      "metadata": {
        "id": "kWT5AjrXjY6K"
      },
      "outputs": [],
      "source": [
        "(X_train, y_train), (X_test, y_test) = keras.datasets.fashion_mnist.load_data()\n",
        "\n",
        "# Scale the images to the [0, 1] interval\n",
        "X_train = X_train.astype(\"float32\") / 255.\n",
        "X_test = X_test.astype(\"float32\") / 255.\n",
        "\n",
        "# Add the \"channel\" dimension\n",
        "X_train = np.expand_dims(X_train, -1)\n",
        "X_test = np.expand_dims(X_test, -1)"
      ]
    },
    {
      "cell_type": "markdown",
      "metadata": {
        "id": "FXMlTxNgjY6K"
      },
      "source": [
        "If we look at the target values in `y_train`, we see that these have labels 0-9:"
      ]
    },
    {
      "cell_type": "code",
      "execution_count": null,
      "metadata": {
        "id": "h9MejBCJjY6K",
        "outputId": "a8a5f516-6899-4503-80a1-a55840c3331a"
      },
      "outputs": [
        {
          "name": "stdout",
          "output_type": "stream",
          "text": [
            "(60000,)\n",
            "[9 0 0 3 0]\n"
          ]
        }
      ],
      "source": [
        "print(y_train.shape)\n",
        "print(y_train[:5])"
      ]
    },
    {
      "cell_type": "markdown",
      "metadata": {
        "id": "Z611QrPrjY6L"
      },
      "source": [
        "But, we rather want them to be _categorical_: instead of\n",
        "```\n",
        "y_train[0] -> 9\n",
        "```\n",
        "we want\n",
        "```\n",
        "y_train[0] -> [0 0 0 0 0 0 0 0 0 1]\n",
        "```\n",
        "\n",
        "### <span style=\"color: red;\">Exercise:<span>\n",
        "Convert the labels to categorical format, using the function `keras.utils.to_categorical`."
      ]
    },
    {
      "cell_type": "code",
      "execution_count": null,
      "metadata": {
        "id": "F2QBums_jY6L"
      },
      "outputs": [],
      "source": [
        "#y_train = ...   # TODO\n",
        "#y_test = ..."
      ]
    },
    {
      "cell_type": "markdown",
      "metadata": {
        "id": "eWveDybnjY6L"
      },
      "source": [
        "Now, let's get the image shape (width and height) by checking the first image:"
      ]
    },
    {
      "cell_type": "code",
      "execution_count": null,
      "metadata": {
        "id": "-5myMnOSjY6L"
      },
      "outputs": [],
      "source": [
        "image_shape = X_train[0].shape\n",
        "print(image_shape)"
      ]
    },
    {
      "cell_type": "markdown",
      "metadata": {
        "id": "lzYmk_kLjY6M"
      },
      "source": [
        "Define the class names from the table above:"
      ]
    },
    {
      "cell_type": "code",
      "execution_count": null,
      "metadata": {
        "id": "vceh1oUVjY6M"
      },
      "outputs": [],
      "source": [
        "class_names = [\n",
        "    \"T-shirt/top\", \"Trouser\", \"Pullover\", \"Dress\", \"Coat\",\n",
        "    \"Sandal\", \"Shirt\", \"Sneaker\", \"Bag\", \"Ankle boot\"\n",
        "]"
      ]
    },
    {
      "cell_type": "markdown",
      "metadata": {
        "id": "T3ABOIzqjY6M"
      },
      "source": [
        "Plot the first few images."
      ]
    },
    {
      "cell_type": "code",
      "execution_count": null,
      "metadata": {
        "id": "F-cJiBTijY6M"
      },
      "outputs": [],
      "source": [
        "n_rows = 5\n",
        "n_cols = 5\n",
        "plt.figure(figsize=(n_cols * 1.2, n_rows * 1.2))\n",
        "for row in range(n_rows):\n",
        "    for col in range(n_cols):\n",
        "        index = n_cols * row + col\n",
        "        plt.subplot(n_rows, n_cols, index + 1)\n",
        "        plt.imshow(X_train[index], cmap=\"binary\", interpolation=\"nearest\")\n",
        "        plt.axis('off')\n",
        "        plt.title(class_names[np.argmax(y_train[index])])\n",
        "plt.subplots_adjust(wspace=0.2, hspace=0.5)\n",
        "\n",
        "plt.show()"
      ]
    },
    {
      "cell_type": "markdown",
      "metadata": {
        "id": "cQvskueyjY6M"
      },
      "source": [
        "### <span style=\"color: red;\">Exercise:<span>\n",
        "Create a neural network yourself, using the Keras API."
      ]
    },
    {
      "cell_type": "code",
      "execution_count": null,
      "metadata": {
        "id": "G018jlRnjY6M"
      },
      "outputs": [],
      "source": [
        "#model = ...     # TODO"
      ]
    },
    {
      "cell_type": "markdown",
      "metadata": {
        "id": "e4lndQl8jY6M"
      },
      "source": [
        "### Compile and train the network"
      ]
    },
    {
      "cell_type": "code",
      "execution_count": null,
      "metadata": {
        "id": "f_UzGxETjY6M"
      },
      "outputs": [],
      "source": [
        "model.compile(loss=\"categorical_crossentropy\", optimizer=\"adam\", metrics=[\"accuracy\"])\n"
      ]
    },
    {
      "cell_type": "code",
      "execution_count": null,
      "metadata": {
        "id": "WyenWzjFjY6M"
      },
      "outputs": [],
      "source": [
        "batch_size = 128    # How many images to load in a single batch\n",
        "epochs = 10         # How many times to iterate over the full dataset\n",
        "\n",
        "history = model.fit(X_train, y_train, batch_size=batch_size, epochs=epochs, validation_split=0.1)"
      ]
    },
    {
      "cell_type": "markdown",
      "metadata": {
        "id": "0XsEY1mkjY6M"
      },
      "source": [
        "### Plot the training performance\n",
        "\n",
        "Let's plot the training performance as function of epoch number.\n",
        "\n",
        "First, have a look at the contents of the `history` dictionary:"
      ]
    },
    {
      "cell_type": "code",
      "execution_count": null,
      "metadata": {
        "id": "3C2DeSX1jY6N"
      },
      "outputs": [],
      "source": [
        "print(history.history.keys())"
      ]
    },
    {
      "cell_type": "markdown",
      "metadata": {
        "id": "IETe3wozjY6N"
      },
      "source": [
        "Plot the training and validation loss:"
      ]
    },
    {
      "cell_type": "code",
      "execution_count": null,
      "metadata": {
        "id": "HiKR_1cRjY6N"
      },
      "outputs": [],
      "source": [
        "plt.plot(history.history['loss'])\n",
        "plt.plot(history.history['val_loss'])\n",
        "plt.title('model loss')\n",
        "plt.ylabel('loss')\n",
        "plt.xlabel('epoch')\n",
        "plt.legend(['train', 'validation'], loc='upper right')\n",
        "plt.show()"
      ]
    },
    {
      "cell_type": "markdown",
      "metadata": {
        "id": "Ada_warDjY6N"
      },
      "source": [
        "Plot the accuracy:"
      ]
    },
    {
      "cell_type": "code",
      "execution_count": null,
      "metadata": {
        "id": "5ki2b4WBjY6N"
      },
      "outputs": [],
      "source": [
        "\n",
        "# summarize history for accuracy\n",
        "plt.plot(history.history['accuracy'])\n",
        "plt.plot(history.history['val_accuracy'])\n",
        "plt.title('model accuracy')\n",
        "plt.ylabel('accuracy')\n",
        "plt.xlabel('epoch')\n",
        "plt.legend(['train', 'test'], loc='upper left')\n",
        "plt.show()"
      ]
    },
    {
      "cell_type": "markdown",
      "metadata": {
        "id": "qfj4r2RvjY6N"
      },
      "source": [
        "Evaluate your model on the test data"
      ]
    },
    {
      "cell_type": "code",
      "execution_count": null,
      "metadata": {
        "id": "t3BOKSepjY6N"
      },
      "outputs": [],
      "source": [
        "score = model.evaluate(X_test, y_test, verbose=0)\n",
        "print(\"Test loss:\", score[0])\n",
        "print(\"Test accuracy:\", score[1])"
      ]
    },
    {
      "cell_type": "markdown",
      "metadata": {
        "id": "rB9b8SLujY6N"
      },
      "source": [
        "### <span style=\"color: red;\">Exercise:<span>\n",
        "Try out different numbers of layers and different numbers of filters, to fint the best possible network. Train for as many epochs as you think is optimal (remember over- and underfitting)."
      ]
    }
  ],
  "metadata": {
    "kernelspec": {
      "display_name": "Python 3",
      "name": "python3"
    },
    "language_info": {
      "codemirror_mode": {
        "name": "ipython",
        "version": 3
      },
      "file_extension": ".py",
      "mimetype": "text/x-python",
      "name": "python",
      "nbconvert_exporter": "python",
      "pygments_lexer": "ipython3",
      "version": "3.10.12"
    },
    "colab": {
      "provenance": [],
      "gpuType": "T4"
    },
    "accelerator": "GPU"
  },
  "nbformat": 4,
  "nbformat_minor": 0
}